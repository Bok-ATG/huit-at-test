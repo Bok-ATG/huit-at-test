{
  "cells": [
    {
      "cell_type": "markdown",
      "metadata": {
        "id": "view-in-github",
        "colab_type": "text"
      },
      "source": [
        "<a href=\"https://colab.research.google.com/github/Bok-ATG/huit-at-test/blob/feature%2Fgoogle-colab/test-01-colab.ipynb\" target=\"_parent\"><img src=\"https://colab.research.google.com/assets/colab-badge.svg\" alt=\"Open In Colab\"/></a>"
      ]
    },
    {
      "cell_type": "code",
      "execution_count": null,
      "metadata": {
        "id": "siWLKixSlEEU"
      },
      "outputs": [],
      "source": [
        "from dotenv import load_dotenv, find_dotenv"
      ]
    },
    {
      "cell_type": "code",
      "execution_count": null,
      "metadata": {
        "id": "xqeFWDvnlEEW"
      },
      "outputs": [],
      "source": [
        "import json, textwrap"
      ]
    },
    {
      "cell_type": "code",
      "execution_count": null,
      "metadata": {
        "id": "5lMVitfBlEEX"
      },
      "outputs": [],
      "source": [
        "load_dotenv('huit-at-test/.env')"
      ]
    },
    {
      "cell_type": "code",
      "execution_count": null,
      "metadata": {
        "id": "vHA21zB0lEEX"
      },
      "outputs": [],
      "source": [
        "import os"
      ]
    },
    {
      "cell_type": "code",
      "execution_count": null,
      "metadata": {
        "id": "sMR1A6fAlEEY"
      },
      "outputs": [],
      "source": [
        "OPENAI_KEY = os.getenv('OPENAI_KEY')\n",
        "OPENAI_SECRET = os.getenv('OPENAI_SECRET')"
      ]
    },
    {
      "cell_type": "code",
      "execution_count": null,
      "metadata": {
        "id": "k7avbBoilEEZ"
      },
      "outputs": [],
      "source": [
        "harvard_api = 'https://go.apis.huit.harvard.edu/ais-openai-direct-limited-schools/v1'"
      ]
    },
    {
      "cell_type": "code",
      "execution_count": null,
      "metadata": {
        "id": "llWSvt7OlEEZ"
      },
      "outputs": [],
      "source": [
        "from openai import OpenAI, BaseModel\n",
        "client = OpenAI(\n",
        "    api_key=OPENAI_KEY,\n",
        "    base_url=harvard_api\n",
        ")"
      ]
    },
    {
      "cell_type": "code",
      "execution_count": null,
      "metadata": {
        "id": "QVqSJqJTlEEa"
      },
      "outputs": [],
      "source": [
        "raw_text = \"\"\"\n",
        "Of Man’s first disobedience, and the fruit\n",
        "Of that forbidden tree whose mortal taste\n",
        "Brought death into the World, and all our woe,\n",
        "With loss of Eden, till one greater Man\n",
        "Restore us, and regain the blissful seat,\n",
        "Sing Heavenly Muse, that, on the secret top\n",
        "Of Oreb or of Sinai, didst inspire\n",
        "That shepherd who first taught the chosen seed,\n",
        "In the beginning how the heavens and earth\n",
        "Rose out of Chaos: or if Sion Hill\n",
        "Delight thee more, and Siloa’s brook that flow’d\n",
        "Fast by the oracle of God; I thence\n",
        "Invoke thy aid to my advent’rous song,\n",
        "That with no middle flight intends to soar\n",
        "Above th’ Aonian mount, while it pursues\n",
        "Things unattempted yet in prose or rhyme.\n",
        "\"\"\"\n",
        "\n",
        "class PLExcerpt(BaseModel):\n",
        "    book: int\n",
        "    lines: str\n",
        "    characters: list[str]\n",
        "    themes: list[str]\n",
        "    summary: str\n",
        "\n",
        "    model_config = {\"extra\": \"forbid\"}\n",
        "\n",
        "schema = PLExcerpt.model_json_schema()"
      ]
    },
    {
      "cell_type": "code",
      "execution_count": null,
      "metadata": {
        "id": "KJvAQObzlEEb"
      },
      "outputs": [],
      "source": [
        "response = client.responses.create(\n",
        "    model=\"gpt-4o-2024-08-06\",\n",
        "    input=[\n",
        "        {\n",
        "            \"role\": \"system\",\n",
        "            \"content\": \"Extract structured data about the passage. Make sure the summary is concise and technical, fitting for an academic well-versed in the text. Remove any filler or aggrandizement.\"\n",
        "                       \"Return JSON only—no extra keys or text.\"\n",
        "        },\n",
        "        {\n",
        "            \"role\": \"user\",\n",
        "            \"content\": raw_text\n",
        "        },\n",
        "    ],\n",
        "    text={\n",
        "        \"format\": {\n",
        "            \"type\": \"json_schema\",\n",
        "            \"name\": \"paradise_lost_excerpt\",\n",
        "            \"strict\": True,\n",
        "            \"schema\": schema,\n",
        "        }\n",
        "    },\n",
        ")\n",
        "\n",
        "print(\"Parsed object:\\n\")\n",
        "\n",
        "parsed = json.loads(response.output_text)\n",
        "parsed[\"summary\"] = textwrap.fill(parsed[\"summary\"], width=80)\n",
        "print(json.dumps(parsed, indent=2))"
      ]
    },
    {
      "cell_type": "code",
      "execution_count": null,
      "metadata": {
        "id": "AZqBT0JRlEEc"
      },
      "outputs": [],
      "source": [
        "import requests"
      ]
    },
    {
      "cell_type": "code",
      "execution_count": null,
      "metadata": {
        "id": "UZ81voselEEc"
      },
      "outputs": [],
      "source": [
        "client.api_base = harvard_api"
      ]
    },
    {
      "cell_type": "code",
      "execution_count": null,
      "metadata": {
        "id": "_LMs9EKzlEEd"
      },
      "outputs": [],
      "source": [
        "url = \"https://go.apis.huit.harvard.edu/ais-openai-direct-limited-schools/v1/chat/completions\"\n",
        "payload = json.dumps({\n",
        "  \"model\": \"gpt-4o-mini\",\n",
        "  \"messages\": [\n",
        "    {\n",
        "      \"role\": \"user\",\n",
        "      \"content\": \"To what extent does scientific conservatism limit new discoveries?\"\n",
        "    }\n",
        "  ],\n",
        "  \"temperature\": 0.7\n",
        "})\n",
        "headers = {\n",
        "  'Content-Type': 'application/json',\n",
        "  'api-key': OPENAI_KEY\n",
        "}\n",
        "response = requests.request(\"POST\", url, headers=headers, data=payload)\n",
        "print(response.text)"
      ]
    },
    {
      "cell_type": "code",
      "execution_count": null,
      "metadata": {
        "id": "Z7gWBuSslEEd"
      },
      "outputs": [],
      "source": [
        "response.json()"
      ]
    },
    {
      "cell_type": "code",
      "execution_count": null,
      "metadata": {
        "id": "xLOZPaFVlEEe"
      },
      "outputs": [],
      "source": []
    }
  ],
  "metadata": {
    "kernelspec": {
      "display_name": "Python 3 (ipykernel)",
      "language": "python",
      "name": "python3"
    },
    "language_info": {
      "codemirror_mode": {
        "name": "ipython",
        "version": 3
      },
      "file_extension": ".py",
      "mimetype": "text/x-python",
      "name": "python",
      "nbconvert_exporter": "python",
      "pygments_lexer": "ipython3",
      "version": "3.11.1"
    },
    "colab": {
      "provenance": [],
      "include_colab_link": true
    }
  },
  "nbformat": 4,
  "nbformat_minor": 0
}